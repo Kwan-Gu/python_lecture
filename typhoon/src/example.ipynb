{
 "cells": [
  {
   "cell_type": "markdown",
   "metadata": {
    "collapsed": false,
    "jupyter": {
     "outputs_hidden": false
    }
   },
   "source": [
    "# 태풍"
   ]
  },
  {
   "cell_type": "markdown",
   "metadata": {},
   "source": [
    "**[이슈 사례]**  \n",
    "\n",
    "- 2022년 8월 28일 ~ 9월 6일 태풍 힌남노"
   ]
  },
  {
   "cell_type": "markdown",
   "metadata": {},
   "source": [
    "=================================================================================================="
   ]
  },
  {
   "attachments": {},
   "cell_type": "markdown",
   "metadata": {
    "collapsed": false,
    "jupyter": {
     "outputs_hidden": false
    }
   },
   "source": [
    "**[관련 교과 내용]**\n",
    "\n",
    "- 태풍의 이동 경로 (단일, 월평균)<br>\n",
    "<img src=\"img/태풍의 이동 경로.png\" width=\"355\">\n",
    "<img src=\"img/태풍의 이동 경로2.png\" width=\"300\"><br><br>\n",
    "\n",
    "- 위험반원과 안전반원 (연직, 수평)<br>\n",
    "<img src=\"img/안전반원 위험반원_연직.png\" width=\"300\">\n",
    "<img src=\"img/안전반원 위험반원_수평.png\" width=\"320\"><br><br>\n",
    "\n",
    "- 태풍-해양 상호작용 (에크만 수송으로 인한 용승)"
   ]
  },
  {
   "cell_type": "markdown",
   "metadata": {},
   "source": [
    "=================================================================================================="
   ]
  },
  {
   "cell_type": "markdown",
   "metadata": {},
   "source": [
    "**[이외 관련 자료]**  \n",
    "\n",
    "- 태풍의 기압과 풍속 → *위험반원과 안전반원* 연관<br>\n",
    "<img src=\"img/태풍의 기압과 풍속.png\" width=\"300\"><br><br>\n",
    "\n",
    "- 일기도에 나타난 태풍<br>\n",
    "<img src=\"img/일기도에 나타난 태풍.png\" width=\"300\"><br><br>\n",
    "\n",
    "- 태풍 영상 (레이더, 위성)<br>\n",
    "<img src=\"img/레이더영상.png\" width=\"400\">\n",
    "<img src=\"img/위성영상.png\" width=\"300\"><br><br>\n",
    "\n",
    "- 관측소 자료 (풍향, 풍속, 기압, 기온, 강수량)<br>\n",
    "<img src=\"img/관측소 자료.png\" width=\"300\">\n",
    "<img src=\"img/관측소 자료2.png\" width=\"370\"><br><br>"
   ]
  },
  {
   "cell_type": "markdown",
   "metadata": {},
   "source": [
    "---"
   ]
  },
  {
   "cell_type": "markdown",
   "metadata": {},
   "source": [
    "## 관측소 자료"
   ]
  },
  {
   "cell_type": "markdown",
   "metadata": {},
   "source": [
    "### 데이터 수집"
   ]
  },
  {
   "cell_type": "markdown",
   "metadata": {},
   "source": [
    "- 기상자료개방포털(https://data.kma.go.kr) 사용 방법\n",
    "  - 제공 데이터 종류\n",
    "- 종관기상관측(ASOS) 및 방재기상관(AWS) 데이터\n",
    "  - 제공 요소 설명\n",
    "  - 데이터 구조의 이해 : 시계열 자료, QC플래그"
   ]
  },
  {
   "cell_type": "markdown",
   "metadata": {},
   "source": [
    "### 시각화"
   ]
  },
  {
   "cell_type": "markdown",
   "metadata": {},
   "source": [
    "- Matplotlib 시각화 라이브러리를 사용해 그래프 그리기\n",
    "  - Matplotlib의 기본 요소 : Figure, Axes 등 구성 요소\n",
    "  - 시간에 따른 풍속, 기압 등 기상요소의 변화를 나타내기\n",
    "  - 여러 기상요소를 하나의 그림에 나타내기"
   ]
  },
  {
   "cell_type": "markdown",
   "metadata": {},
   "source": [
    "---"
   ]
  },
  {
   "cell_type": "markdown",
   "metadata": {
    "collapsed": false,
    "jupyter": {
     "outputs_hidden": false
    }
   },
   "source": [
    "## 태풍의 이동 경로 Ⅰ"
   ]
  },
  {
   "cell_type": "markdown",
   "metadata": {
    "collapsed": false,
    "jupyter": {
     "outputs_hidden": false
    }
   },
   "source": [
    "### 데이터 수집"
   ]
  },
  {
   "cell_type": "markdown",
   "metadata": {},
   "source": [
    "[국내 자료]  \n",
    "\n",
    "- 기상자료개방포털의 태풍 데이터셋\n",
    "  - 제공 요소 설명\n",
    "\n",
    "[해외 자료]  \n",
    "\n",
    "- 일본 기상청(JMA)의 RSMC (Regional Specialized Meteorological Center) 베스트 트랙(best track) 데이터\n",
    "  - 사용 방법 및 제공 요소 설명\n",
    "  - 데이터 구조의 이해"
   ]
  },
  {
   "cell_type": "markdown",
   "metadata": {},
   "source": [
    "### 시각화"
   ]
  },
  {
   "cell_type": "markdown",
   "metadata": {},
   "source": [
    "- Cartopy 시각화 라이브러리를 사용해 태풍 이동 경로 그리기 (정적 이미지)\n",
    "- Folium 시각화 라이브러리를 사용해 태풍 이동 경로 그리기 (대화형 이미지)"
   ]
  },
  {
   "cell_type": "markdown",
   "metadata": {},
   "source": [
    "---"
   ]
  },
  {
   "cell_type": "markdown",
   "metadata": {},
   "source": [
    "## 태풍의 이동 경로 Ⅱ"
   ]
  },
  {
   "cell_type": "markdown",
   "metadata": {},
   "source": [
    "### 데이터 수집"
   ]
  },
  {
   "cell_type": "markdown",
   "metadata": {},
   "source": [
    "### 전처리: 월평균 이동 경로"
   ]
  },
  {
   "cell_type": "markdown",
   "metadata": {},
   "source": [
    "- 여러 개의 태풍 이동 경로 데이터를 처리하기\n",
    "- 월평균 이동 경로 계산하기"
   ]
  },
  {
   "cell_type": "markdown",
   "metadata": {},
   "source": [
    "### 시각화"
   ]
  },
  {
   "cell_type": "markdown",
   "metadata": {},
   "source": [
    "---"
   ]
  },
  {
   "cell_type": "markdown",
   "metadata": {},
   "source": [
    "## 일기도에 나타난 태풍"
   ]
  },
  {
   "cell_type": "markdown",
   "metadata": {},
   "source": [
    "### 데이터 수집"
   ]
  },
  {
   "cell_type": "markdown",
   "metadata": {
    "jp-MarkdownHeadingCollapsed": true
   },
   "source": [
    "### 3차원 구조의 이해 (등압면-위도-경도)"
   ]
  },
  {
   "cell_type": "markdown",
   "metadata": {},
   "source": [
    "### 시각화"
   ]
  },
  {
   "cell_type": "markdown",
   "metadata": {},
   "source": [
    "---"
   ]
  },
  {
   "cell_type": "markdown",
   "metadata": {},
   "source": [
    "## 태풍의 위험반원과 안전반원"
   ]
  },
  {
   "cell_type": "markdown",
   "metadata": {},
   "source": [
    "### 데이터 수집"
   ]
  },
  {
   "cell_type": "markdown",
   "metadata": {},
   "source": [
    "### 시각화 (연직, 수평, 그래프)"
   ]
  },
  {
   "cell_type": "markdown",
   "metadata": {},
   "source": [
    "---"
   ]
  },
  {
   "cell_type": "markdown",
   "metadata": {},
   "source": [
    "## 태풍 영상"
   ]
  },
  {
   "cell_type": "markdown",
   "metadata": {},
   "source": [
    "### 데이터 수집"
   ]
  },
  {
   "cell_type": "markdown",
   "metadata": {},
   "source": [
    "### 시각화 (레이더, 위성)"
   ]
  },
  {
   "cell_type": "markdown",
   "metadata": {},
   "source": [
    "---"
   ]
  }
 ],
 "metadata": {
  "kernelspec": {
   "display_name": "Python 3 (ipykernel)",
   "language": "python",
   "name": "python3"
  },
  "language_info": {
   "codemirror_mode": {
    "name": "ipython",
    "version": 3
   },
   "file_extension": ".py",
   "mimetype": "text/x-python",
   "name": "python",
   "nbconvert_exporter": "python",
   "pygments_lexer": "ipython3",
   "version": "3.9.13"
  }
 },
 "nbformat": 4,
 "nbformat_minor": 4
}
